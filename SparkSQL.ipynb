{
 "cells": [
  {
   "cell_type": "raw",
   "metadata": {},
   "source": [
    "import sys\n",
    "from awsglue.transforms import *\n",
    "from awsglue.utils import getResolvedOptions\n",
    "from pyspark.context import SparkContext\n",
    "from awsglue.context import GlueContext\n",
    "from awsglue.dynamicframe import DynamicFrame\n",
    "from awsglue.job import Job\n",
    " \n",
    "## @params: [JOB_NAME]\n",
    "#args = getResolvedOptions(sys.argv, ['JOB_NAME'])\n",
    " \n",
    "#sc = SparkContext()\n",
    "#glueContext = GlueContext(sc)\n",
    "glueContext = GlueContext(SparkContext.getOrCreate())\n",
    "spark = glueContext.spark_session\n",
    "#spark = glueContext.spark_session\n",
    "#job = Job(glueContext)\n",
    "#job.init(args['JOB_NAME'], args)\n",
    "\n",
    "datasource0 = glueContext.create_dynamic_frame.from_catalog(database = \"unicorn_prediction\", table_name = \"raw_transaction\", transformation_ctx = \"datasource0\")\n",
    "applymapping1 = ApplyMapping.apply(frame = datasource0, mappings = [(\"transactionid\", \"string\", \"transactionid\", \"string\"), (\"poutcome\", \"string\", \"poutcome\", \"string\"), (\"campaign\", \"long\", \"campaign\", \"long\"), (\"`cons.conf.idx`\", \"double\", \"`cons.conf.idx`\", \"double\"), (\"loan\", \"string\", \"loan\", \"string\"), (\"marital\", \"string\", \"marital\", \"string\"), (\"`cons.price.idx`\", \"double\", \"`cons.price.idx`\", \"double\"), (\"duration\", \"long\", \"duration\", \"long\"), (\"euribor3m\", \"double\", \"euribor3m\", \"double\"), (\"pdays\", \"long\", \"pdays\", \"long\"), (\"previous\", \"long\", \"previous\", \"long\"), (\"education\", \"string\", \"education\", \"string\"), (\"housing\", \"string\", \"housing\", \"string\"), (\"job\", \"string\", \"job\", \"string\"), (\"date\", \"string\", \"date\", \"string\"), (\"month\", \"string\", \"month\", \"string\"), (\"customerid\", \"string\", \"customerid\", \"string\"), (\"`nr.employed`\", \"string\", \"`nr.employed`\", \"string\"), (\"default\", \"string\", \"default\", \"string\"), (\"age\", \"long\", \"age\", \"long\"), (\"`emp.var.rate`\", \"double\", \"`emp.var.rate`\", \"double\"), (\"day_of_week\", \"string\", \"day_of_week\", \"string\"), (\"contact\", \"string\", \"contact\", \"string\")], transformation_ctx = \"applymapping1\")\n"
   ]
  },
  {
   "cell_type": "code",
   "execution_count": 38,
   "metadata": {},
   "outputs": [],
   "source": [
    "## @type: SelectFields\n",
    "## @args: [paths = [\"transactionid\", \"customerid\", \"age\", \"job\", \"marital\", \"education\", \"default\", \"housing\", \"loan\", \"contact\", \"month\", \"day_of_week\", \"duration\", \"campaign\", \"pdays\", \"previous\", \"poutcome\", \"emp.var.rate\", \"cons.price.idx\", \"cons.conf.idx\", \"euribor3m\", \"nr.employed\"], transformation_ctx = \"selectfields2\"]\n",
    "## @return: selectfields2\n",
    "## @inputs: [frame = applymapping1]\n",
    "selectfields2 = SelectFields.apply(frame = applymapping1, paths = [\"transactionid\", \"customerid\", \"age\", \"job\", \"marital\", \"education\", \"default\", \"housing\", \"loan\", \"contact\", \"month\", \"day_of_week\", \"duration\", \"campaign\", \"pdays\", \"previous\", \"poutcome\", \"`emp.var.rate`\", \"`cons.price.idx`\", \"`cons.conf.idx`\", \"euribor3m\", \"`nr.employed`\", \"date\"], transformation_ctx = \"selectfields2\")\n",
    "## @type: ResolveChoice\n",
    "## @args: [choice = \"MATCH_CATALOG\", database = \"unicorn_prediction\", table_name = \"transformed_marketing\", transformation_ctx = \"resolvechoice3\"]\n",
    "## @return: resolvechoice3\n",
    "## @inputs: [frame = selectfields2]\n",
    "##resolvechoice3 = ResolveChoice.apply(frame = selectfiimport sys\n",
    "from awsglue.transforms import *\n",
    "from awsglue.utils import getResolvedOptions\n",
    "from pyspark.context import SparkContext\n",
    "from awsglue.context import GlueContext\n",
    "from awsglue.dynamicframe import DynamicFrame\n",
    "from awsglue.job import Job\n",
    " \n",
    "## @params: [JOB_NAME]\n",
    "#args = getResolvedOptions(sys.argv, ['JOB_NAME'])\n",
    " \n",
    "#sc = SparkContext()\n",
    "#glueContext = GlueContext(sc)\n",
    "glueContext = GlueContext(SparkContext.getOrCreate())\n",
    "spark = glueContext.spark_session\n",
    "#spark = glueContext.spark_session\n",
    "#job = Job(glueContext)\n",
    "#job.init(args['JOB_NAME'], args)\n",
    "\n",
    "datasource0 = glueContext.create_dynamic_frame.from_catalog(database = \"unicorn_prediction\", table_name = \"raw_transaction\", transformation_ctx = \"datasource0\")\n",
    "applymapping1 = ApplyMapping.apply(frame = datasource0, mappings = [(\"transactionid\", \"string\", \"transactionid\", \"string\"), (\"poutcome\", \"string\", \"poutcome\", \"string\"), (\"campaign\", \"long\", \"campaign\", \"long\"), (\"`cons.conf.idx`\", \"double\", \"`cons.conf.idx`\", \"double\"), (\"loan\", \"string\", \"loan\", \"string\"), (\"marital\", \"string\", \"marital\", \"string\"), (\"`cons.price.idx`\", \"double\", \"`cons.price.idx`\", \"double\"), (\"duration\", \"long\", \"duration\", \"long\"), (\"euribor3m\", \"double\", \"euribor3m\", \"double\"), (\"pdays\", \"long\", \"pdays\", \"long\"), (\"previous\", \"long\", \"previous\", \"long\"), (\"education\", \"string\", \"education\", \"string\"), (\"housing\", \"string\", \"housing\", \"string\"), (\"job\", \"string\", \"job\", \"string\"), (\"date\", \"string\", \"date\", \"string\"), (\"month\", \"string\", \"month\", \"string\"), (\"customerid\", \"string\", \"customerid\", \"string\"), (\"`nr.employed`\", \"string\", \"`nr.employed`\", \"string\"), (\"default\", \"string\", \"default\", \"string\"), (\"age\", \"long\", \"age\", \"long\"), (\"`emp.var.rate`\", \"double\", \"`emp.var.rate`\", \"double\"), (\"day_of_week\", \"string\", \"day_of_week\", \"string\"), (\"contact\", \"string\", \"contact\", \"string\")], transformation_ctx = \"applymapping1\")\n",
    "elds2, choice = \"MATCH_CATALOG\", database = \"unicorn_prediction\", table_name = \"transformed_marketing\", transformation_ctx = \"resolvechoice3\")\n",
    "## @type: ResolveChoice\n",
    "## @args: [choice = \"make_struct\", transformation_ctx = \"resolvechoice4\"]\n",
    "## @return: resolvechoice4\n",
    "## @inputs: [frame = resolvechoice3]\n",
    "resolvechoice4 = ResolveChoice.apply(frame = selectfields2, choice = \"make_struct\", transformation_ctx = \"resolvechoice4\")\n",
    "\n",
    "#unicorn_tx_df = resolvechoice4.toDF().repartition(1)\n",
    "#unicorn_tx_dyf = DynamicFrame.fromDF(unicorn_tx_df, glueContext, \"partition\")\n",
    "\n",
    "#glueContext.write_dynamic_frame.from_options(frame = unicorn_tx_dyf, connection_type = \"s3\", connection_options = {\"path\": \"s3://unicorn-prediction-transform/marketing\",\"partitionKeys\": [\"date\"] },format=\"parquet\", transformation_ctx = \"datasink_output\")\n"
   ]
  },
  {
   "cell_type": "code",
   "execution_count": 39,
   "metadata": {},
   "outputs": [
    {
     "name": "stdout",
     "output_type": "stream",
     "text": [
      "+--------------------+----------+---+------------+--------+-------------------+-------+-------+-------+---------+-------+-----------+--------+--------+-----+--------+-----------+------------+--------------+-------------+---------+-----------+----------+\n",
      "|       transactionid|customerid|age|         job| marital|          education|default|housing|   loan|  contact|  month|day_of_week|duration|campaign|pdays|previous|   poutcome|emp.var.rate|cons.price.idx|cons.conf.idx|euribor3m|nr.employed|      date|\n",
      "+--------------------+----------+---+------------+--------+-------------------+-------+-------+-------+---------+-------+-----------+--------+--------+-----+--------+-----------+------------+--------------+-------------+---------+-----------+----------+\n",
      "|5be161685d5c0e252...|    947761| 61|   housemaid| married|           basic.9y|    yes|    yes|     no|telephone|    jun|        thu|     100|       2|   42|       0|    unknown|         1.1|        93.994|        -36.4|    4.857|       5191|2018-11-06|\n",
      "|5be161685d5c0e252...|    903448| 21|  technician| married|         illiterate|     no|     no|     no|  unknown|    jun|        tue|      69|       2|   17|       0|    success|         1.1|        93.994|        -36.4|    4.857|       5191|2018-11-06|\n",
      "|5be161685d5c0e252...|    175844| 68|entrepreneur| married|         illiterate|     no|    yes|     no|telephone|    oct|        wed|      64|       2|   75|       0|    success|         1.1|        93.994|        -36.4|    4.857|       5191|2018-11-06|\n",
      "|5be161685d5c0e252...|    168356| 38|  management|divorced|        high.school|     no|     no|unknown|  unknown|    aug|        thu|      89|       2|   61|       0|    success|         1.1|        93.994|        -36.4|    4.857|       5191|2018-11-06|\n",
      "|5be161685d5c0e252...|    289801| 39|  management|  single|  university.degree|    yes|     no|    yes| cellular|    aug|        sun|      33|       2|   56|       0|nonexistent|         1.1|        93.994|        -36.4|    4.857|       5191|2018-11-06|\n",
      "|5be161685d5c0e252...|     64944| 59|  management|divorced|            unknown|unknown|     no|     no|telephone|    aug|        sat|      55|       2|   61|       0|nonexistent|         1.1|        93.994|        -36.4|    4.857|       5191|2018-11-06|\n",
      "|5be161685d5c0e252...|    456056| 57|  management|  single|           basic.9y|     no|     no|    yes| cellular|    jan|        sat|      97|       2|   48|       0|    failure|         1.1|        93.994|        -36.4|    4.857|       5191|2018-11-06|\n",
      "|5be161685d5c0e252...|    531392| 49|       admin|divorced|            unknown|unknown|    yes|     no|  unknown|    apr|        sat|      21|       2|   56|       0|    success|         1.1|        93.994|        -36.4|    4.857|       5191|2018-11-06|\n",
      "|5be161685d5c0e252...|    970808| 62| blue-collar| unknown|            unknown|    yes|unknown|     no| cellular|    oct|        sat|      32|       2|   65|       0|    unknown|         1.1|        93.994|        -36.4|    4.857|       5191|2018-11-06|\n",
      "|5be161685d5c0e252...|    286197| 70|    services|divorced|         illiterate|unknown|unknown|unknown| cellular|    oct|        sun|      41|       2|   11|       0|nonexistent|         1.1|        93.994|        -36.4|    4.857|       5191|2018-11-06|\n",
      "|5be161685d5c0e252...|    166326| 66|  management| married|professional.course|unknown|unknown|     no|  unknown|    oct|        thu|      67|       2|   76|       0|nonexistent|         1.1|        93.994|        -36.4|    4.857|       5191|2018-11-06|\n",
      "|5be161685d5c0e252...|    409683| 30|   housemaid| unknown|           basic.6y|    yes|     no|     no|telephone|    apr|        thu|      96|       2|   89|       0|    success|         1.1|        93.994|        -36.4|    4.857|       5191|2018-11-06|\n",
      "|5be161685d5c0e252...|    523943| 68|  management| unknown|           basic.9y|unknown|    yes|    yes| cellular|    feb|        sun|      88|       2|   14|       0|    success|         1.1|        93.994|        -36.4|    4.857|       5191|2018-11-06|\n",
      "|5be161685d5c0e252...|    614549| 51|     unknown| unknown|professional.course|    yes|     no|     no| cellular|    jun|        sat|      64|       2|   74|       0|nonexistent|         1.1|        93.994|        -36.4|    4.857|       5191|2018-11-06|\n",
      "|5be161685d5c0e252...|    661664| 26|  management| married|professional.course|unknown|     no|unknown|  unknown|    jan|    unknown|      35|       2|   41|       0|nonexistent|         1.1|        93.994|        -36.4|    4.857|       5191|2018-11-06|\n",
      "|5be161685d5c0e252...|    411245| 23|     unknown| unknown|                 no|     no|    yes|     no|  unknown|    may|        thu|      29|       2|    3|       0|    failure|         1.1|        93.994|        -36.4|    4.857|       5191|2018-11-06|\n",
      "|5be161685d5c0e252...|    585399| 59|  management| married|        high.school|     no|     no|     no| cellular|   sept|        fri|      35|       2|   18|       0|    unknown|         1.1|        93.994|        -36.4|    4.857|       5191|2018-11-06|\n",
      "|5be161685d5c0e252...|    307684| 51|       admin| married|  university.degree|     no|unknown|     no| cellular|    may|        wed|      82|       2|   24|       0|    failure|         1.1|        93.994|        -36.4|    4.857|       5191|2018-11-06|\n",
      "|5be161685d5c0e252...|    597100| 36| blue-collar|divorced|  university.degree|unknown|unknown|     no|telephone|unknown|        sun|      32|       2|   68|       0|nonexistent|         1.1|        93.994|        -36.4|    4.857|       5191|2018-11-06|\n",
      "|5be161685d5c0e252...|    525106| 52|    services|divorced|           basic.9y|    yes|    yes|    yes|  unknown|    dec|    unknown|      37|       2|   95|       0|nonexistent|         1.1|        93.994|        -36.4|    4.857|       5191|2018-11-06|\n",
      "+--------------------+----------+---+------------+--------+-------------------+-------+-------+-------+---------+-------+-----------+--------+--------+-----+--------+-----------+------------+--------------+-------------+---------+-----------+----------+\n",
      "only showing top 20 rows"
     ]
    }
   ],
   "source": [
    "unicorn_tx_df = resolvechoice4.toDF()\n",
    "unicorn_tx_df.show()"
   ]
  },
  {
   "cell_type": "code",
   "execution_count": 51,
   "metadata": {},
   "outputs": [],
   "source": [
    "unicorn_tm = glueContext.create_dynamic_frame.from_catalog(database = \"unicorn_prediction\", table_name = \"transformed_marketing\", transformation_ctx = \"tm\")\n",
    "unicorn_tcontact = glueContext.create_dynamic_frame.from_catalog(database = \"unicorn_prediction\", table_name = \"taxonomy_contact\", transformation_ctx = \"tcontact\")\n",
    "unicorn_temployment = glueContext.create_dynamic_frame.from_catalog(database = \"unicorn_prediction\", table_name = \"taxonomy_employment\", transformation_ctx = \"temployment\")\n",
    "unicorn_tmarital = glueContext.create_dynamic_frame.from_catalog(database = \"unicorn_prediction\", table_name = \"taxonomy_marital\", transformation_ctx = \"tmarital\")\n",
    "unicorn_tdefault = glueContext.create_dynamic_frame.from_catalog(database = \"unicorn_prediction\", table_name = \"taxonomy_default\", transformation_ctx = \"tdefault\")\n",
    "unicorn_teducation = glueContext.create_dynamic_frame.from_catalog(database = \"unicorn_prediction\", table_name = \"taxonomy_education\", transformation_ctx = \"teducation\")\n",
    "unicorn_thousing = glueContext.create_dynamic_frame.from_catalog(database = \"unicorn_prediction\", table_name = \"taxonomy_housing\", transformation_ctx = \"thousing\")\n",
    "unicorn_tloan = glueContext.create_dynamic_frame.from_catalog(database = \"unicorn_prediction\", table_name = \"taxonomy_loan\", transformation_ctx = \"tloan\")\n",
    "unicorn_tpoutcome = glueContext.create_dynamic_frame.from_catalog(database = \"unicorn_prediction\", table_name = \"taxonomy_poutcome\", transformation_ctx = \"tpoutcome\")\n",
    "unicorn_tmonth = glueContext.create_dynamic_frame.from_catalog(database = \"unicorn_prediction\", table_name = \"taxonomy_month\", transformation_ctx = \"tmonth\")\n",
    "unicorn_dow = glueContext.create_dynamic_frame.from_catalog(database = \"unicorn_prediction\", table_name = \"taxonomy_day_of_week\", transformation_ctx = \"dow\")\n",
    "unicorn_update = glueContext.create_dynamic_frame.from_catalog(database = \"unicorn_prediction\", table_name = \"raw_update\", transformation_ctx = \"update\")\n",
    "\n",
    "\n",
    "unicorn_tm.toDF().createOrReplaceTempView(\"transformed_marketing\")\n",
    "unicorn_tcontact.toDF().createOrReplaceTempView(\"taxonomy_contact\")\n",
    "unicorn_temployment.toDF().createOrReplaceTempView(\"taxonomy_employment\")\n",
    "unicorn_tmarital.toDF().createOrReplaceTempView(\"taxonomy_marital\")\n",
    "unicorn_tdefault.toDF().createOrReplaceTempView(\"taxonomy_default\")\n",
    "unicorn_teducation.toDF().createOrReplaceTempView(\"taxonomy_education\")\n",
    "unicorn_thousing.toDF().createOrReplaceTempView(\"taxonomy_housing\")\n",
    "unicorn_tloan.toDF().createOrReplaceTempView(\"taxonomy_loan\")\n",
    "unicorn_tpoutcome.toDF().createOrReplaceTempView(\"taxonomy_poutcome\")\n",
    "unicorn_tmonth.toDF().createOrReplaceTempView(\"taxonomy_month\")\n",
    "unicorn_dow.toDF().createOrReplaceTempView(\"taxonomy_day_of_week\")\n",
    "unicorn_update.toDF().createOrReplaceTempView(\"raw_update\")\n"
   ]
  },
  {
   "cell_type": "code",
   "execution_count": 52,
   "metadata": {},
   "outputs": [
    {
     "name": "stdout",
     "output_type": "stream",
     "text": [
      "root\n",
      "|-- transactionid: string\n",
      "|-- customerid: string\n",
      "|-- age: long\n",
      "|-- job: string\n",
      "|-- marital: string\n",
      "|-- education: string\n",
      "|-- default: string\n",
      "|-- housing: string\n",
      "|-- loan: string\n",
      "|-- contact: string\n",
      "|-- month: string\n",
      "|-- day_of_week: string\n",
      "|-- duration: long\n",
      "|-- campaign: long\n",
      "|-- pdays: long\n",
      "|-- previous: long\n",
      "|-- poutcome: string\n",
      "|-- emp.var.rate: double\n",
      "|-- cons.price.idx: double\n",
      "|-- cons.conf.idx: double\n",
      "|-- euribor3m: double\n",
      "|-- nr.employed: string\n",
      "|-- date: date"
     ]
    }
   ],
   "source": [
    "unicorn_tm.printSchema()"
   ]
  },
  {
   "cell_type": "code",
   "execution_count": 53,
   "metadata": {},
   "outputs": [
    {
     "name": "stdout",
     "output_type": "stream",
     "text": [
      "root\n",
      "|-- mpno: long\n",
      "|-- description: string"
     ]
    }
   ],
   "source": [
    "unicorn_tcontact.printSchema()"
   ]
  },
  {
   "cell_type": "code",
   "execution_count": 54,
   "metadata": {},
   "outputs": [
    {
     "name": "stdout",
     "output_type": "stream",
     "text": [
      "+----+-----------+\n",
      "|mpno|description|\n",
      "+----+-----------+\n",
      "|   0|    unknown|\n",
      "|   1|   cellular|\n",
      "|   2|  telephone|\n",
      "+----+-----------+"
     ]
    }
   ],
   "source": [
    "unicorn_tcontact.toDF().show()"
   ]
  },
  {
   "cell_type": "code",
   "execution_count": 55,
   "metadata": {},
   "outputs": [
    {
     "name": "stdout",
     "output_type": "stream",
     "text": [
      "root\n",
      "|-- mpno: long\n",
      "|-- description: string"
     ]
    }
   ],
   "source": [
    "unicorn_temployment.printSchema()"
   ]
  },
  {
   "cell_type": "code",
   "execution_count": 56,
   "metadata": {},
   "outputs": [
    {
     "name": "stdout",
     "output_type": "stream",
     "text": [
      "+----+-------------+\n",
      "|mpno|  description|\n",
      "+----+-------------+\n",
      "|   0|      unknown|\n",
      "|   1|       admin.|\n",
      "|   2|  blue-collar|\n",
      "|   3| entrepreneur|\n",
      "|   4|    housemaid|\n",
      "|   5|   management|\n",
      "|   6|      retired|\n",
      "|   7|self-employed|\n",
      "|   8|     services|\n",
      "|   9|      student|\n",
      "|  10|   technician|\n",
      "|  11|   unemployed|\n",
      "+----+-------------+"
     ]
    }
   ],
   "source": [
    "unicorn_temployment.toDF().show()\n",
    "df = unicorn_temployment.toDF()\n"
   ]
  },
  {
   "cell_type": "code",
   "execution_count": 57,
   "metadata": {},
   "outputs": [],
   "source": [
    "df.createOrReplaceTempView(\"taxonomy_employment\")\n",
    "\n",
    "unicorn_predict_df = spark.sql(\"select description from taxonomy_employment\")"
   ]
  },
  {
   "cell_type": "code",
   "execution_count": 58,
   "metadata": {},
   "outputs": [
    {
     "name": "stdout",
     "output_type": "stream",
     "text": [
      "+-------------+\n",
      "|  description|\n",
      "+-------------+\n",
      "|      unknown|\n",
      "|       admin.|\n",
      "|  blue-collar|\n",
      "| entrepreneur|\n",
      "|    housemaid|\n",
      "|   management|\n",
      "|      retired|\n",
      "|self-employed|\n",
      "|     services|\n",
      "|      student|\n",
      "|   technician|\n",
      "|   unemployed|\n",
      "+-------------+"
     ]
    }
   ],
   "source": [
    "unicorn_predict_df.show()"
   ]
  },
  {
   "cell_type": "code",
   "execution_count": 59,
   "metadata": {},
   "outputs": [
    {
     "name": "stdout",
     "output_type": "stream",
     "text": [
      "+---+---+-------+---------+-------+-------+----+-------+-----+-----------+--------+--------+-----+--------+--------+------------+--------------+-------------+---------+-----------+---+\n",
      "|age|job|marital|education|default|housing|loan|contact|month|day_of_week|duration|campaign|pdays|previous|poutcome|emp.var.rate|cons.price.idx|cons.conf.idx|euribor3m|nr.employed|  y|\n",
      "+---+---+-------+---------+-------+-------+----+-------+-----+-----------+--------+--------+-----+--------+--------+------------+--------------+-------------+---------+-----------+---+\n",
      "| 35|  2|      2|        2|      1|      2|   1|      2|    5|          1|     312|       1|  999|       0|       2|         1.1|        93.994|        -36.4|    4.857|       5191|  0|\n",
      "| 50|  2|      2|        3|      0|      1|   1|      2|    5|          1|     463|       1|  999|       0|       2|         1.1|        93.994|        -36.4|    4.857|       5191|  0|\n",
      "| 36|  1|      2|        7|      1|      2|   1|      2|    5|          1|     120|       2|  999|       0|       2|         1.1|        93.994|        -36.4|    4.857|       5191|  0|\n",
      "| 42| 10|      3|        6|      0|      0|   0|      2|    5|          2|     529|       1|  999|       0|       2|         1.1|        93.994|        -36.4|    4.857|       5191|  0|\n",
      "| 41|  3|      2|        7|      1|      2|   1|      2|    5|          3|    1138|       1|  999|       0|       2|         1.1|        93.994|        -36.4|    4.856|       5191|  1|\n",
      "| 29|  1|      3|        4|      1|      2|   1|      2|    5|          3|     511|       2|  999|       0|       2|         1.1|        93.994|        -36.4|    4.856|       5191|  0|\n",
      "| 31| 10|      2|        6|      1|      1|   1|      2|    5|          4|     528|       1|  999|       0|       2|         1.1|        93.994|        -36.4|    4.855|       5191|  0|\n",
      "| 25|  8|      1|        4|      1|      2|   1|      2|    5|          4|     147|       1|  999|       0|       2|         1.1|        93.994|        -36.4|    4.855|       5191|  0|\n",
      "| 43|  2|      2|        2|      0|      1|   1|      2|    5|          4|     301|       2|  999|       0|       2|         1.1|        93.994|        -36.4|    4.855|       5191|  0|\n",
      "| 57|  8|      2|        2|      1|      1|   1|      2|    5|          4|      43|       2|  999|       0|       2|         1.1|        93.994|        -36.4|    4.855|       5191|  0|\n",
      "| 32|  2|      2|        3|      0|      1|   1|      2|    5|          5|     180|       2|  999|       0|       2|         1.1|        93.994|        -36.4|    4.855|       5191|  0|\n",
      "| 49|  3|      2|        4|      1|      1|   1|      2|    5|          5|     189|       1|  999|       0|       2|         1.1|        93.994|        -36.4|    4.855|       5191|  0|\n",
      "| 28|  1|      3|        7|      1|      2|   1|      2|    5|          5|     286|       5|  999|       0|       2|         1.1|        93.994|        -36.4|    4.855|       5191|  0|\n",
      "| 25|  9|      3|        4|      1|      1|   1|      2|    5|          5|      97|       1|  999|       0|       2|         1.1|        93.994|        -36.4|    4.855|       5191|  0|\n",
      "| 33| 11|      2|        6|      0|      2|   1|      2|    5|          1|     129|       2|  999|       0|       2|         1.1|        93.994|        -36.4|    4.857|       5191|  0|\n",
      "| 32|  8|      2|        4|      1|      0|   0|      2|    5|          1|      72|       2|  999|       0|       2|         1.1|        93.994|        -36.4|    4.857|       5191|  0|\n",
      "| 35|  2|      2|        3|      1|      1|   1|      2|    5|          1|      63|       5|  999|       0|       2|         1.1|        93.994|        -36.4|    4.857|       5191|  0|\n",
      "| 39| 10|      2|        7|      1|      2|   1|      2|    5|          1|     241|       3|  999|       0|       2|         1.1|        93.994|        -36.4|    4.857|       5191|  0|\n",
      "| 31|  2|      3|        4|      0|      2|   1|      2|    5|          1|      93|       4|  999|       0|       2|         1.1|        93.994|        -36.4|    4.857|       5191|  0|\n",
      "| 36|  1|      3|        4|      1|      2|   2|      2|    5|          1|     111|       4|  999|       0|       2|         1.1|        93.994|        -36.4|    4.857|       5191|  0|\n",
      "+---+---+-------+---------+-------+-------+----+-------+-----+-----------+--------+--------+-----+--------+--------+------------+--------------+-------------+---------+-----------+---+\n",
      "only showing top 20 rows"
     ]
    }
   ],
   "source": [
    "unicorn_predict_df = spark.sql(\n",
    "    \"\"\"\n",
    "select tm.age as age, temployment.mpno as job, tmarital.mpno as marital, teducation.mpno as education, tdefault.mpno as default, thousing.mpno as housing, tloan.mpno as loan, tcontact.mpno as contact, tmonth.mpno as month, dow.mpno as day_of_week, tm.duration as duration, tm.campaign, tm.pdays, tm.previous, tpoutcome.mpno as poutcome, tm.`emp.var.rate`, tm.`cons.price.idx`, tm.`cons.conf.idx`, tm.euribor3m, tm.`nr.employed`,\n",
    "CASE\n",
    "   WHEN update.y = 'no' THEN 0\n",
    "   WHEN update.y is NULL THEN 0\n",
    "   WHEN update.y = 'yes' THEN 1\n",
    "END as y\n",
    "from transformed_marketing tm \n",
    "inner join taxonomy_contact tcontact on tcontact.description=tm.contact\n",
    "inner join taxonomy_employment temployment on temployment.description=tm.job\n",
    "inner join taxonomy_marital tmarital on tmarital.description=tm.marital\n",
    "inner join taxonomy_default tdefault on tdefault.description=tm.default\n",
    "inner join taxonomy_education teducation on teducation.description=tm.education\n",
    "inner join taxonomy_housing thousing on thousing.description=tm.housing\n",
    "inner join taxonomy_loan tloan on tloan.description=tm.loan\n",
    "inner join taxonomy_poutcome tpoutcome on tpoutcome.description=tm.poutcome\n",
    "inner join taxonomy_month tmonth on tmonth.description=tm.month\n",
    "inner join taxonomy_day_of_week as dow on dow.description=tm.day_of_week\n",
    "inner join raw_update as update on update.transactionid=tm.transactionid\n",
    "    \"\"\"\n",
    ")#.repartition(1)\n",
    "\n",
    "unicorn_predict_df.show()\n",
    "#unicorn_predict_dyf = DynamicFrame.fromDF(unicorn_predict_df, glueContext, \"predict\")\n",
    "#glueContext.write_dynamic_frame.from_options(frame = unicorn_predict_dyf, connection_type = \"s3\", connection_options = {\"path\": \"s3://unicorn-prediction-production/output\" },format=\"csv\", transformation_ctx = \"datasink_output\")"
   ]
  },
  {
   "cell_type": "code",
   "execution_count": 61,
   "metadata": {},
   "outputs": [
    {
     "name": "stdout",
     "output_type": "stream",
     "text": [
      "['group1', 'group2']"
     ]
    }
   ],
   "source": [
    "dfc = SplitRows.apply(unicorn_temployment,\n",
    "                                     {\"mpno\": {\">\": 4}},\n",
    "                                     \"group1\", \"group2\")\n",
    "\n",
    "dfc.keys()\n"
   ]
  },
  {
   "cell_type": "code",
   "execution_count": 66,
   "metadata": {},
   "outputs": [
    {
     "name": "stdout",
     "output_type": "stream",
     "text": [
      "+----+-------------+\n",
      "|mpno|  description|\n",
      "+----+-------------+\n",
      "|   5|   management|\n",
      "|   6|      retired|\n",
      "|   7|self-employed|\n",
      "|   8|     services|\n",
      "|   9|      student|\n",
      "|  10|   technician|\n",
      "|  11|   unemployed|\n",
      "+----+-------------+\n",
      "\n",
      "+----+------------+\n",
      "|mpno| description|\n",
      "+----+------------+\n",
      "|   0|     unknown|\n",
      "|   1|      admin.|\n",
      "|   2| blue-collar|\n",
      "|   3|entrepreneur|\n",
      "|   4|   housemaid|\n",
      "+----+------------+"
     ]
    }
   ],
   "source": [
    "group1_dyf = dfc.select(\"group1\")\n",
    "group2_dyf = dfc.select(\"group2\")\n",
    "\n",
    "group1_dyf.toDF().show()\n",
    "group2_dyf.toDF().show()"
   ]
  },
  {
   "cell_type": "code",
   "execution_count": null,
   "metadata": {},
   "outputs": [],
   "source": []
  }
 ],
 "metadata": {
  "kernelspec": {
   "display_name": "Sparkmagic (PySpark)",
   "language": "",
   "name": "pysparkkernel"
  },
  "language_info": {
   "codemirror_mode": {
    "name": "python",
    "version": 2
   },
   "mimetype": "text/x-python",
   "name": "pyspark",
   "pygments_lexer": "python2"
  }
 },
 "nbformat": 4,
 "nbformat_minor": 2
}
